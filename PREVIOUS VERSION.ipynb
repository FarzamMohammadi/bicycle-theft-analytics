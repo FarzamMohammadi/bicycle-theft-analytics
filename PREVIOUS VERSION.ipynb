{
 "cells": [
  {
   "cell_type": "code",
   "execution_count": 29,
   "id": "9d8af997",
   "metadata": {},
   "outputs": [],
   "source": [
    "import numpy as np\n",
    "import pandas as pd\n",
    "import matplotlib.pyplot as plt\n",
    "import seaborn as sns"
   ]
  },
  {
   "cell_type": "markdown",
   "id": "83533202",
   "metadata": {},
   "source": [
    "# 1 - Data exploration"
   ]
  },
  {
   "cell_type": "markdown",
   "id": "59413621",
   "metadata": {},
   "source": [
    "### Import and load the data"
   ]
  },
  {
   "cell_type": "code",
   "execution_count": 30,
   "id": "471e7558",
   "metadata": {},
   "outputs": [
    {
     "name": "stderr",
     "output_type": "stream",
     "text": [
      "C:\\ProgramData\\Anaconda3\\lib\\site-packages\\IPython\\core\\interactiveshell.py:3444: DtypeWarning: Columns (21) have mixed types.Specify dtype option on import or set low_memory=False.\n",
      "  exec(code_obj, self.user_global_ns, self.user_ns)\n"
     ]
    }
   ],
   "source": [
    "df = pd.read_csv(\"C:/Negin-Centennial-apps/Data Warehouse-309/Project2/Bicycle_Thefts.csv\")"
   ]
  },
  {
   "cell_type": "code",
   "execution_count": 31,
   "id": "75635e1b",
   "metadata": {},
   "outputs": [
    {
     "data": {
      "text/html": [
       "<div>\n",
       "<style scoped>\n",
       "    .dataframe tbody tr th:only-of-type {\n",
       "        vertical-align: middle;\n",
       "    }\n",
       "\n",
       "    .dataframe tbody tr th {\n",
       "        vertical-align: top;\n",
       "    }\n",
       "\n",
       "    .dataframe thead th {\n",
       "        text-align: right;\n",
       "    }\n",
       "</style>\n",
       "<table border=\"1\" class=\"dataframe\">\n",
       "  <thead>\n",
       "    <tr style=\"text-align: right;\">\n",
       "      <th></th>\n",
       "      <th>X</th>\n",
       "      <th>Y</th>\n",
       "      <th>OBJECTID</th>\n",
       "      <th>event_unique_id</th>\n",
       "      <th>Primary_Offence</th>\n",
       "      <th>Occurrence_Date</th>\n",
       "      <th>Occurrence_Year</th>\n",
       "      <th>Occurrence_Month</th>\n",
       "      <th>Occurrence_DayOfWeek</th>\n",
       "      <th>Occurrence_DayOfMonth</th>\n",
       "      <th>...</th>\n",
       "      <th>Bike_Make</th>\n",
       "      <th>Bike_Model</th>\n",
       "      <th>Bike_Type</th>\n",
       "      <th>Bike_Speed</th>\n",
       "      <th>Bike_Colour</th>\n",
       "      <th>Cost_of_Bike</th>\n",
       "      <th>Status</th>\n",
       "      <th>Longitude</th>\n",
       "      <th>Latitude</th>\n",
       "      <th>ObjectId2</th>\n",
       "    </tr>\n",
       "  </thead>\n",
       "  <tbody>\n",
       "    <tr>\n",
       "      <th>0</th>\n",
       "      <td>-8.850630e+06</td>\n",
       "      <td>5.411196e+06</td>\n",
       "      <td>17744</td>\n",
       "      <td>GO-20179016397</td>\n",
       "      <td>THEFT UNDER</td>\n",
       "      <td>2017/10/03 04:00:00+00</td>\n",
       "      <td>2017</td>\n",
       "      <td>October</td>\n",
       "      <td>Tuesday</td>\n",
       "      <td>3</td>\n",
       "      <td>...</td>\n",
       "      <td>GI</td>\n",
       "      <td>ESCAPE 2</td>\n",
       "      <td>OT</td>\n",
       "      <td>7</td>\n",
       "      <td>BLK</td>\n",
       "      <td>700.0</td>\n",
       "      <td>STOLEN</td>\n",
       "      <td>-79.506560</td>\n",
       "      <td>43.648427</td>\n",
       "      <td>1</td>\n",
       "    </tr>\n",
       "    <tr>\n",
       "      <th>1</th>\n",
       "      <td>-8.850439e+06</td>\n",
       "      <td>5.412149e+06</td>\n",
       "      <td>17759</td>\n",
       "      <td>GO-20172033056</td>\n",
       "      <td>THEFT UNDER - BICYCLE</td>\n",
       "      <td>2017/11/08 05:00:00+00</td>\n",
       "      <td>2017</td>\n",
       "      <td>November</td>\n",
       "      <td>Wednesday</td>\n",
       "      <td>8</td>\n",
       "      <td>...</td>\n",
       "      <td>UNKNOWN MAKE</td>\n",
       "      <td>NaN</td>\n",
       "      <td>TO</td>\n",
       "      <td>1</td>\n",
       "      <td>BLK</td>\n",
       "      <td>1100.0</td>\n",
       "      <td>RECOVERED</td>\n",
       "      <td>-79.504849</td>\n",
       "      <td>43.654623</td>\n",
       "      <td>2</td>\n",
       "    </tr>\n",
       "    <tr>\n",
       "      <th>2</th>\n",
       "      <td>-8.851203e+06</td>\n",
       "      <td>5.411169e+06</td>\n",
       "      <td>17906</td>\n",
       "      <td>GO-20189030822</td>\n",
       "      <td>THEFT UNDER - BICYCLE</td>\n",
       "      <td>2018/09/14 04:00:00+00</td>\n",
       "      <td>2018</td>\n",
       "      <td>September</td>\n",
       "      <td>Friday</td>\n",
       "      <td>14</td>\n",
       "      <td>...</td>\n",
       "      <td>OT</td>\n",
       "      <td>CROSSTRAIL</td>\n",
       "      <td>MT</td>\n",
       "      <td>24</td>\n",
       "      <td>BLK</td>\n",
       "      <td>904.0</td>\n",
       "      <td>STOLEN</td>\n",
       "      <td>-79.511709</td>\n",
       "      <td>43.648253</td>\n",
       "      <td>3</td>\n",
       "    </tr>\n",
       "    <tr>\n",
       "      <th>3</th>\n",
       "      <td>-8.851203e+06</td>\n",
       "      <td>5.411169e+06</td>\n",
       "      <td>17962</td>\n",
       "      <td>GO-2015804467</td>\n",
       "      <td>THEFT UNDER</td>\n",
       "      <td>2015/05/07 04:00:00+00</td>\n",
       "      <td>2015</td>\n",
       "      <td>May</td>\n",
       "      <td>Thursday</td>\n",
       "      <td>7</td>\n",
       "      <td>...</td>\n",
       "      <td>GT</td>\n",
       "      <td>NaN</td>\n",
       "      <td>TO</td>\n",
       "      <td>10</td>\n",
       "      <td>BLKDGR</td>\n",
       "      <td>400.0</td>\n",
       "      <td>STOLEN</td>\n",
       "      <td>-79.511709</td>\n",
       "      <td>43.648253</td>\n",
       "      <td>4</td>\n",
       "    </tr>\n",
       "    <tr>\n",
       "      <th>4</th>\n",
       "      <td>-8.851160e+06</td>\n",
       "      <td>5.411032e+06</td>\n",
       "      <td>17963</td>\n",
       "      <td>GO-20159002781</td>\n",
       "      <td>THEFT UNDER</td>\n",
       "      <td>2015/05/16 04:00:00+00</td>\n",
       "      <td>2015</td>\n",
       "      <td>May</td>\n",
       "      <td>Saturday</td>\n",
       "      <td>16</td>\n",
       "      <td>...</td>\n",
       "      <td>GI</td>\n",
       "      <td>NaN</td>\n",
       "      <td>MT</td>\n",
       "      <td>6</td>\n",
       "      <td>RED</td>\n",
       "      <td>600.0</td>\n",
       "      <td>STOLEN</td>\n",
       "      <td>-79.511327</td>\n",
       "      <td>43.647364</td>\n",
       "      <td>5</td>\n",
       "    </tr>\n",
       "  </tbody>\n",
       "</table>\n",
       "<p>5 rows × 35 columns</p>\n",
       "</div>"
      ],
      "text/plain": [
       "              X             Y  OBJECTID event_unique_id  \\\n",
       "0 -8.850630e+06  5.411196e+06     17744  GO-20179016397   \n",
       "1 -8.850439e+06  5.412149e+06     17759  GO-20172033056   \n",
       "2 -8.851203e+06  5.411169e+06     17906  GO-20189030822   \n",
       "3 -8.851203e+06  5.411169e+06     17962   GO-2015804467   \n",
       "4 -8.851160e+06  5.411032e+06     17963  GO-20159002781   \n",
       "\n",
       "         Primary_Offence         Occurrence_Date  Occurrence_Year  \\\n",
       "0            THEFT UNDER  2017/10/03 04:00:00+00             2017   \n",
       "1  THEFT UNDER - BICYCLE  2017/11/08 05:00:00+00             2017   \n",
       "2  THEFT UNDER - BICYCLE  2018/09/14 04:00:00+00             2018   \n",
       "3            THEFT UNDER  2015/05/07 04:00:00+00             2015   \n",
       "4            THEFT UNDER  2015/05/16 04:00:00+00             2015   \n",
       "\n",
       "  Occurrence_Month Occurrence_DayOfWeek  Occurrence_DayOfMonth  ...  \\\n",
       "0          October              Tuesday                      3  ...   \n",
       "1         November            Wednesday                      8  ...   \n",
       "2        September               Friday                     14  ...   \n",
       "3              May             Thursday                      7  ...   \n",
       "4              May             Saturday                     16  ...   \n",
       "\n",
       "      Bike_Make  Bike_Model Bike_Type  Bike_Speed Bike_Colour Cost_of_Bike  \\\n",
       "0            GI    ESCAPE 2        OT           7         BLK        700.0   \n",
       "1  UNKNOWN MAKE         NaN        TO           1         BLK       1100.0   \n",
       "2            OT  CROSSTRAIL        MT          24         BLK        904.0   \n",
       "3            GT         NaN        TO          10      BLKDGR        400.0   \n",
       "4            GI         NaN        MT           6         RED        600.0   \n",
       "\n",
       "      Status  Longitude   Latitude ObjectId2  \n",
       "0     STOLEN -79.506560  43.648427         1  \n",
       "1  RECOVERED -79.504849  43.654623         2  \n",
       "2     STOLEN -79.511709  43.648253         3  \n",
       "3     STOLEN -79.511709  43.648253         4  \n",
       "4     STOLEN -79.511327  43.647364         5  \n",
       "\n",
       "[5 rows x 35 columns]"
      ]
     },
     "execution_count": 31,
     "metadata": {},
     "output_type": "execute_result"
    }
   ],
   "source": [
    "df.head()"
   ]
  },
  {
   "cell_type": "markdown",
   "id": "ae92c01d",
   "metadata": {},
   "source": [
    "### Not Needed : 'X',  'Y', 'OBJECTID', 'event_unique_id', 'Occurrence_Date', 'Occurrence_DayOfMonth', 'Occurrence_DayOfYear', 'Occurrence_Hour', 'Report_Date', 'Report_Year', 'Report_Month', 'Report_DayOfWeek', 'Report_DayOfMonth', 'Report_DayOfYear', 'Report_Hour', 'Division', 'City', 'Hood_ID', 'Bike_Make', 'Bike_Model', 'Bike_Type', 'Bike_Speed', 'Bike_Colour', 'Longitude', 'Latitude', 'ObjectId2'"
   ]
  },
  {
   "cell_type": "code",
   "execution_count": 32,
   "id": "1cc2bf9d",
   "metadata": {},
   "outputs": [],
   "source": [
    "# Removing columns which do not hold useful data\n",
    "df= df.drop(['X',  'Y', 'OBJECTID', 'event_unique_id', 'Occurrence_Date', 'Occurrence_DayOfMonth', 'Occurrence_DayOfYear', 'Occurrence_Hour', 'Report_Date', 'Report_Year', 'Report_Month', 'Report_DayOfWeek', 'Report_DayOfMonth', 'Report_DayOfYear', 'Report_Hour', 'Division', 'City', 'Hood_ID', 'Bike_Make', 'Bike_Model', 'Bike_Type', 'Bike_Speed', 'Bike_Colour', 'Longitude', 'Latitude', 'ObjectId2'], axis=1)"
   ]
  },
  {
   "cell_type": "code",
   "execution_count": 33,
   "id": "908e88f5",
   "metadata": {},
   "outputs": [
    {
     "data": {
      "text/html": [
       "<div>\n",
       "<style scoped>\n",
       "    .dataframe tbody tr th:only-of-type {\n",
       "        vertical-align: middle;\n",
       "    }\n",
       "\n",
       "    .dataframe tbody tr th {\n",
       "        vertical-align: top;\n",
       "    }\n",
       "\n",
       "    .dataframe thead th {\n",
       "        text-align: right;\n",
       "    }\n",
       "</style>\n",
       "<table border=\"1\" class=\"dataframe\">\n",
       "  <thead>\n",
       "    <tr style=\"text-align: right;\">\n",
       "      <th></th>\n",
       "      <th>Primary_Offence</th>\n",
       "      <th>Occurrence_Year</th>\n",
       "      <th>Occurrence_Month</th>\n",
       "      <th>Occurrence_DayOfWeek</th>\n",
       "      <th>NeighbourhoodName</th>\n",
       "      <th>Location_Type</th>\n",
       "      <th>Premises_Type</th>\n",
       "      <th>Cost_of_Bike</th>\n",
       "      <th>Status</th>\n",
       "    </tr>\n",
       "  </thead>\n",
       "  <tbody>\n",
       "    <tr>\n",
       "      <th>0</th>\n",
       "      <td>THEFT UNDER</td>\n",
       "      <td>2017</td>\n",
       "      <td>October</td>\n",
       "      <td>Tuesday</td>\n",
       "      <td>Kingsway South (15)</td>\n",
       "      <td>Streets, Roads, Highways (Bicycle Path, Privat...</td>\n",
       "      <td>Outside</td>\n",
       "      <td>700.0</td>\n",
       "      <td>STOLEN</td>\n",
       "    </tr>\n",
       "    <tr>\n",
       "      <th>1</th>\n",
       "      <td>THEFT UNDER - BICYCLE</td>\n",
       "      <td>2017</td>\n",
       "      <td>November</td>\n",
       "      <td>Wednesday</td>\n",
       "      <td>Kingsway South (15)</td>\n",
       "      <td>Single Home, House (Attach Garage, Cottage, Mo...</td>\n",
       "      <td>House</td>\n",
       "      <td>1100.0</td>\n",
       "      <td>RECOVERED</td>\n",
       "    </tr>\n",
       "    <tr>\n",
       "      <th>2</th>\n",
       "      <td>THEFT UNDER - BICYCLE</td>\n",
       "      <td>2018</td>\n",
       "      <td>September</td>\n",
       "      <td>Friday</td>\n",
       "      <td>Kingsway South (15)</td>\n",
       "      <td>Ttc Subway Station</td>\n",
       "      <td>Transit</td>\n",
       "      <td>904.0</td>\n",
       "      <td>STOLEN</td>\n",
       "    </tr>\n",
       "    <tr>\n",
       "      <th>3</th>\n",
       "      <td>THEFT UNDER</td>\n",
       "      <td>2015</td>\n",
       "      <td>May</td>\n",
       "      <td>Thursday</td>\n",
       "      <td>Kingsway South (15)</td>\n",
       "      <td>Ttc Subway Station</td>\n",
       "      <td>Transit</td>\n",
       "      <td>400.0</td>\n",
       "      <td>STOLEN</td>\n",
       "    </tr>\n",
       "    <tr>\n",
       "      <th>4</th>\n",
       "      <td>THEFT UNDER</td>\n",
       "      <td>2015</td>\n",
       "      <td>May</td>\n",
       "      <td>Saturday</td>\n",
       "      <td>Kingsway South (15)</td>\n",
       "      <td>Ttc Subway Station</td>\n",
       "      <td>Transit</td>\n",
       "      <td>600.0</td>\n",
       "      <td>STOLEN</td>\n",
       "    </tr>\n",
       "  </tbody>\n",
       "</table>\n",
       "</div>"
      ],
      "text/plain": [
       "         Primary_Offence  Occurrence_Year Occurrence_Month  \\\n",
       "0            THEFT UNDER             2017          October   \n",
       "1  THEFT UNDER - BICYCLE             2017         November   \n",
       "2  THEFT UNDER - BICYCLE             2018        September   \n",
       "3            THEFT UNDER             2015              May   \n",
       "4            THEFT UNDER             2015              May   \n",
       "\n",
       "  Occurrence_DayOfWeek    NeighbourhoodName  \\\n",
       "0              Tuesday  Kingsway South (15)   \n",
       "1            Wednesday  Kingsway South (15)   \n",
       "2               Friday  Kingsway South (15)   \n",
       "3             Thursday  Kingsway South (15)   \n",
       "4             Saturday  Kingsway South (15)   \n",
       "\n",
       "                                       Location_Type Premises_Type  \\\n",
       "0  Streets, Roads, Highways (Bicycle Path, Privat...       Outside   \n",
       "1  Single Home, House (Attach Garage, Cottage, Mo...         House   \n",
       "2                                 Ttc Subway Station       Transit   \n",
       "3                                 Ttc Subway Station       Transit   \n",
       "4                                 Ttc Subway Station       Transit   \n",
       "\n",
       "   Cost_of_Bike     Status  \n",
       "0         700.0     STOLEN  \n",
       "1        1100.0  RECOVERED  \n",
       "2         904.0     STOLEN  \n",
       "3         400.0     STOLEN  \n",
       "4         600.0     STOLEN  "
      ]
     },
     "execution_count": 33,
     "metadata": {},
     "output_type": "execute_result"
    }
   ],
   "source": [
    "df.head()"
   ]
  },
  {
   "cell_type": "code",
   "execution_count": 34,
   "id": "c535df4d",
   "metadata": {},
   "outputs": [],
   "source": [
    "df = df[df.Status != 'UNKNOWN']"
   ]
  },
  {
   "cell_type": "code",
   "execution_count": 35,
   "id": "5efc4527",
   "metadata": {},
   "outputs": [
    {
     "data": {
      "text/html": [
       "<div>\n",
       "<style scoped>\n",
       "    .dataframe tbody tr th:only-of-type {\n",
       "        vertical-align: middle;\n",
       "    }\n",
       "\n",
       "    .dataframe tbody tr th {\n",
       "        vertical-align: top;\n",
       "    }\n",
       "\n",
       "    .dataframe thead th {\n",
       "        text-align: right;\n",
       "    }\n",
       "</style>\n",
       "<table border=\"1\" class=\"dataframe\">\n",
       "  <thead>\n",
       "    <tr style=\"text-align: right;\">\n",
       "      <th></th>\n",
       "      <th>Primary_Offence</th>\n",
       "      <th>Occurrence_Year</th>\n",
       "      <th>Occurrence_Month</th>\n",
       "      <th>Occurrence_DayOfWeek</th>\n",
       "      <th>NeighbourhoodName</th>\n",
       "      <th>Location_Type</th>\n",
       "      <th>Premises_Type</th>\n",
       "      <th>Cost_of_Bike</th>\n",
       "      <th>Status</th>\n",
       "    </tr>\n",
       "  </thead>\n",
       "  <tbody>\n",
       "    <tr>\n",
       "      <th>0</th>\n",
       "      <td>THEFT UNDER</td>\n",
       "      <td>2017</td>\n",
       "      <td>October</td>\n",
       "      <td>Tuesday</td>\n",
       "      <td>Kingsway South (15)</td>\n",
       "      <td>Streets, Roads, Highways (Bicycle Path, Privat...</td>\n",
       "      <td>Outside</td>\n",
       "      <td>700.0</td>\n",
       "      <td>STOLEN</td>\n",
       "    </tr>\n",
       "    <tr>\n",
       "      <th>1</th>\n",
       "      <td>THEFT UNDER - BICYCLE</td>\n",
       "      <td>2017</td>\n",
       "      <td>November</td>\n",
       "      <td>Wednesday</td>\n",
       "      <td>Kingsway South (15)</td>\n",
       "      <td>Single Home, House (Attach Garage, Cottage, Mo...</td>\n",
       "      <td>House</td>\n",
       "      <td>1100.0</td>\n",
       "      <td>RECOVERED</td>\n",
       "    </tr>\n",
       "    <tr>\n",
       "      <th>2</th>\n",
       "      <td>THEFT UNDER - BICYCLE</td>\n",
       "      <td>2018</td>\n",
       "      <td>September</td>\n",
       "      <td>Friday</td>\n",
       "      <td>Kingsway South (15)</td>\n",
       "      <td>Ttc Subway Station</td>\n",
       "      <td>Transit</td>\n",
       "      <td>904.0</td>\n",
       "      <td>STOLEN</td>\n",
       "    </tr>\n",
       "    <tr>\n",
       "      <th>3</th>\n",
       "      <td>THEFT UNDER</td>\n",
       "      <td>2015</td>\n",
       "      <td>May</td>\n",
       "      <td>Thursday</td>\n",
       "      <td>Kingsway South (15)</td>\n",
       "      <td>Ttc Subway Station</td>\n",
       "      <td>Transit</td>\n",
       "      <td>400.0</td>\n",
       "      <td>STOLEN</td>\n",
       "    </tr>\n",
       "    <tr>\n",
       "      <th>4</th>\n",
       "      <td>THEFT UNDER</td>\n",
       "      <td>2015</td>\n",
       "      <td>May</td>\n",
       "      <td>Saturday</td>\n",
       "      <td>Kingsway South (15)</td>\n",
       "      <td>Ttc Subway Station</td>\n",
       "      <td>Transit</td>\n",
       "      <td>600.0</td>\n",
       "      <td>STOLEN</td>\n",
       "    </tr>\n",
       "  </tbody>\n",
       "</table>\n",
       "</div>"
      ],
      "text/plain": [
       "         Primary_Offence  Occurrence_Year Occurrence_Month  \\\n",
       "0            THEFT UNDER             2017          October   \n",
       "1  THEFT UNDER - BICYCLE             2017         November   \n",
       "2  THEFT UNDER - BICYCLE             2018        September   \n",
       "3            THEFT UNDER             2015              May   \n",
       "4            THEFT UNDER             2015              May   \n",
       "\n",
       "  Occurrence_DayOfWeek    NeighbourhoodName  \\\n",
       "0              Tuesday  Kingsway South (15)   \n",
       "1            Wednesday  Kingsway South (15)   \n",
       "2               Friday  Kingsway South (15)   \n",
       "3             Thursday  Kingsway South (15)   \n",
       "4             Saturday  Kingsway South (15)   \n",
       "\n",
       "                                       Location_Type Premises_Type  \\\n",
       "0  Streets, Roads, Highways (Bicycle Path, Privat...       Outside   \n",
       "1  Single Home, House (Attach Garage, Cottage, Mo...         House   \n",
       "2                                 Ttc Subway Station       Transit   \n",
       "3                                 Ttc Subway Station       Transit   \n",
       "4                                 Ttc Subway Station       Transit   \n",
       "\n",
       "   Cost_of_Bike     Status  \n",
       "0         700.0     STOLEN  \n",
       "1        1100.0  RECOVERED  \n",
       "2         904.0     STOLEN  \n",
       "3         400.0     STOLEN  \n",
       "4         600.0     STOLEN  "
      ]
     },
     "execution_count": 35,
     "metadata": {},
     "output_type": "execute_result"
    }
   ],
   "source": [
    "df.head()"
   ]
  },
  {
   "cell_type": "code",
   "execution_count": 36,
   "id": "4e5da3df",
   "metadata": {},
   "outputs": [
    {
     "data": {
      "text/plain": [
       "Primary_Offence            0\n",
       "Occurrence_Year            0\n",
       "Occurrence_Month           0\n",
       "Occurrence_DayOfWeek       0\n",
       "NeighbourhoodName          0\n",
       "Location_Type              0\n",
       "Premises_Type              0\n",
       "Cost_of_Bike            1441\n",
       "Status                     0\n",
       "dtype: int64"
      ]
     },
     "execution_count": 36,
     "metadata": {},
     "output_type": "execute_result"
    }
   ],
   "source": [
    "df.isnull().sum()"
   ]
  },
  {
   "cell_type": "code",
   "execution_count": 37,
   "id": "d1667e2e",
   "metadata": {},
   "outputs": [
    {
     "data": {
      "text/plain": [
       "25115"
      ]
     },
     "execution_count": 37,
     "metadata": {},
     "output_type": "execute_result"
    }
   ],
   "source": [
    "df.shape[0]\n"
   ]
  },
  {
   "cell_type": "code",
   "execution_count": 38,
   "id": "6682a262",
   "metadata": {},
   "outputs": [
    {
     "data": {
      "text/plain": [
       "<AxesSubplot:>"
      ]
     },
     "execution_count": 38,
     "metadata": {},
     "output_type": "execute_result"
    },
    {
     "data": {
      "image/png": "[encoded data removed]",
      "text/plain": [
       "<Figure size 432x288 with 2 Axes>"
      ]
     },
     "metadata": {
      "needs_background": "light"
     },
     "output_type": "display_data"
    }
   ],
   "source": [
    "sns.heatmap(df.isnull(),yticklabels=False)"
   ]
  },
  {
   "cell_type": "code",
   "execution_count": 39,
   "id": "70472c1c",
   "metadata": {},
   "outputs": [
    {
     "name": "stdout",
     "output_type": "stream",
     "text": [
      "[2009, 2010, 2011, 2012, 2013, 2014, 2015, 2016, 2017, 2018, 2019, 2020]\n"
     ]
    }
   ],
   "source": [
    "uni = df['Occurrence_Year'].unique()\n",
    "print(sorted(uni))"
   ]
  },
  {
   "cell_type": "code",
   "execution_count": 40,
   "id": "443d9477",
   "metadata": {},
   "outputs": [
    {
     "name": "stdout",
     "output_type": "stream",
     "text": [
      "['AGGRAVATED ASLT PEACE OFFICER', 'ARR/WARR EXECUTED NO ADDED CHG', 'ASSAULT', 'ASSAULT - FORCE/THRT/IMPEDE', 'ASSAULT - RESIST/ PREVENT SEIZ', 'ASSAULT BODILY HARM', 'ASSAULT WITH WEAPON', 'B&E', 'B&E OUT', \"B&E W'INTENT\", 'CARRYING CONCEALED WEAPON', 'DRUG - POSS METH (SCHD I)', 'DRUG - TRAF CANNABIS (SCHD II)', 'DRUG - TRAF OTHER (SCHD I)', 'FIRE - DETERMINED', 'FRAUD - IDENTITY/PERS W-INT', 'FRAUD OVER', 'FRAUD UNDER', 'FTC PROBATION ORDER', 'FTC WITH CONDITIONS', 'INCIDENT', 'INFORMATION ONLY', 'INVALID GO - RMS ONLY', 'LIQUOR - INTOXICATED', 'MISCHIEF - ENDANGER LIFE', 'MISCHIEF - INTERFERE W-PROP', 'MISCHIEF TO VEHICLE', 'MISCHIEF UNDER', 'OTHER FEDERAL STATUTE OFFENCES', 'POSSESSION HOUSE BREAK INSTRUM', 'POSSESSION PROPERTY OBC OVER', 'POSSESSION PROPERTY OBC UNDER', 'PROPERTY - FOUND', 'PROPERTY - LOST', 'PROPERTY - RECOVERED', 'PUBLIC MISCHIEF', 'ROBBERY - BUSINESS', 'ROBBERY - HOME INVASION', 'ROBBERY - MUGGING', 'ROBBERY - OTHER', 'ROBBERY - SWARMING', 'ROBBERY WITH WEAPON', 'SUSPICIOUS INCIDENT', 'THEFT FROM MAIL / BAG / KEY', 'THEFT FROM MOTOR VEHICLE OVER', 'THEFT FROM MOTOR VEHICLE UNDER', 'THEFT OF EBIKE OVER $5000', 'THEFT OF EBIKE UNDER $5000', 'THEFT OF MOTOR VEHICLE', 'THEFT OVER', 'THEFT OVER - BICYCLE', 'THEFT UNDER', 'THEFT UNDER - BICYCLE', 'THEFT UNDER - SHOPLIFTING', 'THREAT - PERSON', 'TRAFFICKING PROPERTY OBC UNDER', 'TRESPASS AT NIGHT', 'UNLAWFULLY IN DWELLING-HOUSE', 'WEAPON - POSS DANGEROUS PURP']\n"
     ]
    }
   ],
   "source": [
    "uni = df['Primary_Offence'].unique()\n",
    "print(sorted(uni))\n"
   ]
  },
  {
   "cell_type": "code",
   "execution_count": 41,
   "id": "cd142570",
   "metadata": {},
   "outputs": [
    {
     "data": {
      "text/plain": [
       "59"
      ]
     },
     "execution_count": 41,
     "metadata": {},
     "output_type": "execute_result"
    }
   ],
   "source": [
    "len(uni)"
   ]
  },
  {
   "cell_type": "code",
   "execution_count": 42,
   "id": "ceac337b",
   "metadata": {},
   "outputs": [
    {
     "name": "stdout",
     "output_type": "stream",
     "text": [
      "['Apartment', 'Commercial', 'Educational', 'House', 'Other', 'Outside', 'Transit']\n"
     ]
    }
   ],
   "source": [
    "uni = df['Premises_Type'].unique()\n",
    "print(sorted(uni))"
   ]
  },
  {
   "cell_type": "code",
   "execution_count": 43,
   "id": "86733e04",
   "metadata": {},
   "outputs": [
    {
     "name": "stdout",
     "output_type": "stream",
     "text": [
      "['RECOVERED', 'STOLEN']\n"
     ]
    }
   ],
   "source": [
    "uni = df['Status'].unique()\n",
    "print(sorted(uni))"
   ]
  },
  {
   "cell_type": "code",
   "execution_count": 44,
   "id": "a82c6cc1",
   "metadata": {},
   "outputs": [
    {
     "data": {
      "text/plain": [
       "Text(0.5, 1.0, 'Histogram')"
      ]
     },
     "execution_count": 44,
     "metadata": {},
     "output_type": "execute_result"
    },
    {
     "data": {
      "image/png": "[encoded data removed]",
      "text/plain": [
       "<Figure size 432x288 with 1 Axes>"
      ]
     },
     "metadata": {
      "needs_background": "light"
     },
     "output_type": "display_data"
    }
   ],
   "source": [
    "plt.hist(df[\"Occurrence_Year\"])\n",
    "plt.title(\"Histogram\")"
   ]
  },
  {
   "cell_type": "code",
   "execution_count": 45,
   "id": "e29fccb8",
   "metadata": {},
   "outputs": [
    {
     "data": {
      "text/plain": [
       "Text(0.5, 1.0, 'Histogram')"
      ]
     },
     "execution_count": 45,
     "metadata": {},
     "output_type": "execute_result"
    },
    {
     "data": {
      "image/png": "[encoded data removed]",
      "text/plain": [
       "<Figure size 432x288 with 1 Axes>"
      ]
     },
     "metadata": {
      "needs_background": "light"
     },
     "output_type": "display_data"
    }
   ],
   "source": [
    "plt.hist(df[\"Premises_Type\"])\n",
    "plt.title(\"Histogram\")"
   ]
  },
  {
   "cell_type": "code",
   "execution_count": 46,
   "id": "7362f13d",
   "metadata": {
    "scrolled": true
   },
   "outputs": [
    {
     "data": {
      "text/plain": [
       "Text(0.5, 1.0, 'Histogram')"
      ]
     },
     "execution_count": 46,
     "metadata": {},
     "output_type": "execute_result"
    },
    {
     "data": {
      "image/png": "[encoded data removed]",
      "text/plain": [
       "<Figure size 432x288 with 1 Axes>"
      ]
     },
     "metadata": {
      "needs_background": "light"
     },
     "output_type": "display_data"
    }
   ],
   "source": [
    "plt.hist(df[\"Status\"])\n",
    "plt.title(\"Histogram\")"
   ]
  },
  {
   "cell_type": "markdown",
   "id": "d7e323cf",
   "metadata": {},
   "source": [
    "# Data Modelling\n"
   ]
  },
  {
   "cell_type": "code",
   "execution_count": 47,
   "id": "9fb54de2",
   "metadata": {},
   "outputs": [],
   "source": [
    "types = pd.get_dummies( df[\"Status\"] , drop_first=True)"
   ]
  },
  {
   "cell_type": "code",
   "execution_count": 48,
   "id": "dbe05963",
   "metadata": {},
   "outputs": [
    {
     "data": {
      "text/html": [
       "<div>\n",
       "<style scoped>\n",
       "    .dataframe tbody tr th:only-of-type {\n",
       "        vertical-align: middle;\n",
       "    }\n",
       "\n",
       "    .dataframe tbody tr th {\n",
       "        vertical-align: top;\n",
       "    }\n",
       "\n",
       "    .dataframe thead th {\n",
       "        text-align: right;\n",
       "    }\n",
       "</style>\n",
       "<table border=\"1\" class=\"dataframe\">\n",
       "  <thead>\n",
       "    <tr style=\"text-align: right;\">\n",
       "      <th></th>\n",
       "      <th>STOLEN</th>\n",
       "    </tr>\n",
       "  </thead>\n",
       "  <tbody>\n",
       "    <tr>\n",
       "      <th>0</th>\n",
       "      <td>1</td>\n",
       "    </tr>\n",
       "    <tr>\n",
       "      <th>1</th>\n",
       "      <td>0</td>\n",
       "    </tr>\n",
       "    <tr>\n",
       "      <th>2</th>\n",
       "      <td>1</td>\n",
       "    </tr>\n",
       "    <tr>\n",
       "      <th>3</th>\n",
       "      <td>1</td>\n",
       "    </tr>\n",
       "    <tr>\n",
       "      <th>4</th>\n",
       "      <td>1</td>\n",
       "    </tr>\n",
       "  </tbody>\n",
       "</table>\n",
       "</div>"
      ],
      "text/plain": [
       "   STOLEN\n",
       "0       1\n",
       "1       0\n",
       "2       1\n",
       "3       1\n",
       "4       1"
      ]
     },
     "execution_count": 48,
     "metadata": {},
     "output_type": "execute_result"
    }
   ],
   "source": [
    "types.head()"
   ]
  },
  {
   "cell_type": "code",
   "execution_count": 49,
   "id": "2e0ee718",
   "metadata": {},
   "outputs": [],
   "source": [
    "df = df.drop(\"Status\", axis=1)"
   ]
  },
  {
   "cell_type": "code",
   "execution_count": 50,
   "id": "e3ebd16a",
   "metadata": {},
   "outputs": [
    {
     "data": {
      "text/html": [
       "<div>\n",
       "<style scoped>\n",
       "    .dataframe tbody tr th:only-of-type {\n",
       "        vertical-align: middle;\n",
       "    }\n",
       "\n",
       "    .dataframe tbody tr th {\n",
       "        vertical-align: top;\n",
       "    }\n",
       "\n",
       "    .dataframe thead th {\n",
       "        text-align: right;\n",
       "    }\n",
       "</style>\n",
       "<table border=\"1\" class=\"dataframe\">\n",
       "  <thead>\n",
       "    <tr style=\"text-align: right;\">\n",
       "      <th></th>\n",
       "      <th>Primary_Offence</th>\n",
       "      <th>Occurrence_Year</th>\n",
       "      <th>Occurrence_Month</th>\n",
       "      <th>Occurrence_DayOfWeek</th>\n",
       "      <th>NeighbourhoodName</th>\n",
       "      <th>Location_Type</th>\n",
       "      <th>Premises_Type</th>\n",
       "      <th>Cost_of_Bike</th>\n",
       "    </tr>\n",
       "  </thead>\n",
       "  <tbody>\n",
       "    <tr>\n",
       "      <th>0</th>\n",
       "      <td>THEFT UNDER</td>\n",
       "      <td>2017</td>\n",
       "      <td>October</td>\n",
       "      <td>Tuesday</td>\n",
       "      <td>Kingsway South (15)</td>\n",
       "      <td>Streets, Roads, Highways (Bicycle Path, Privat...</td>\n",
       "      <td>Outside</td>\n",
       "      <td>700.0</td>\n",
       "    </tr>\n",
       "    <tr>\n",
       "      <th>1</th>\n",
       "      <td>THEFT UNDER - BICYCLE</td>\n",
       "      <td>2017</td>\n",
       "      <td>November</td>\n",
       "      <td>Wednesday</td>\n",
       "      <td>Kingsway South (15)</td>\n",
       "      <td>Single Home, House (Attach Garage, Cottage, Mo...</td>\n",
       "      <td>House</td>\n",
       "      <td>1100.0</td>\n",
       "    </tr>\n",
       "    <tr>\n",
       "      <th>2</th>\n",
       "      <td>THEFT UNDER - BICYCLE</td>\n",
       "      <td>2018</td>\n",
       "      <td>September</td>\n",
       "      <td>Friday</td>\n",
       "      <td>Kingsway South (15)</td>\n",
       "      <td>Ttc Subway Station</td>\n",
       "      <td>Transit</td>\n",
       "      <td>904.0</td>\n",
       "    </tr>\n",
       "    <tr>\n",
       "      <th>3</th>\n",
       "      <td>THEFT UNDER</td>\n",
       "      <td>2015</td>\n",
       "      <td>May</td>\n",
       "      <td>Thursday</td>\n",
       "      <td>Kingsway South (15)</td>\n",
       "      <td>Ttc Subway Station</td>\n",
       "      <td>Transit</td>\n",
       "      <td>400.0</td>\n",
       "    </tr>\n",
       "    <tr>\n",
       "      <th>4</th>\n",
       "      <td>THEFT UNDER</td>\n",
       "      <td>2015</td>\n",
       "      <td>May</td>\n",
       "      <td>Saturday</td>\n",
       "      <td>Kingsway South (15)</td>\n",
       "      <td>Ttc Subway Station</td>\n",
       "      <td>Transit</td>\n",
       "      <td>600.0</td>\n",
       "    </tr>\n",
       "  </tbody>\n",
       "</table>\n",
       "</div>"
      ],
      "text/plain": [
       "         Primary_Offence  Occurrence_Year Occurrence_Month  \\\n",
       "0            THEFT UNDER             2017          October   \n",
       "1  THEFT UNDER - BICYCLE             2017         November   \n",
       "2  THEFT UNDER - BICYCLE             2018        September   \n",
       "3            THEFT UNDER             2015              May   \n",
       "4            THEFT UNDER             2015              May   \n",
       "\n",
       "  Occurrence_DayOfWeek    NeighbourhoodName  \\\n",
       "0              Tuesday  Kingsway South (15)   \n",
       "1            Wednesday  Kingsway South (15)   \n",
       "2               Friday  Kingsway South (15)   \n",
       "3             Thursday  Kingsway South (15)   \n",
       "4             Saturday  Kingsway South (15)   \n",
       "\n",
       "                                       Location_Type Premises_Type  \\\n",
       "0  Streets, Roads, Highways (Bicycle Path, Privat...       Outside   \n",
       "1  Single Home, House (Attach Garage, Cottage, Mo...         House   \n",
       "2                                 Ttc Subway Station       Transit   \n",
       "3                                 Ttc Subway Station       Transit   \n",
       "4                                 Ttc Subway Station       Transit   \n",
       "\n",
       "   Cost_of_Bike  \n",
       "0         700.0  \n",
       "1        1100.0  \n",
       "2         904.0  \n",
       "3         400.0  \n",
       "4         600.0  "
      ]
     },
     "execution_count": 50,
     "metadata": {},
     "output_type": "execute_result"
    }
   ],
   "source": [
    "df.head()"
   ]
  },
  {
   "cell_type": "code",
   "execution_count": 51,
   "id": "00c7035c",
   "metadata": {},
   "outputs": [],
   "source": [
    "finalData = pd.concat([df, types], axis=1)"
   ]
  },
  {
   "cell_type": "code",
   "execution_count": 52,
   "id": "3bf77321",
   "metadata": {},
   "outputs": [
    {
     "data": {
      "text/html": [
       "<div>\n",
       "<style scoped>\n",
       "    .dataframe tbody tr th:only-of-type {\n",
       "        vertical-align: middle;\n",
       "    }\n",
       "\n",
       "    .dataframe tbody tr th {\n",
       "        vertical-align: top;\n",
       "    }\n",
       "\n",
       "    .dataframe thead th {\n",
       "        text-align: right;\n",
       "    }\n",
       "</style>\n",
       "<table border=\"1\" class=\"dataframe\">\n",
       "  <thead>\n",
       "    <tr style=\"text-align: right;\">\n",
       "      <th></th>\n",
       "      <th>Primary_Offence</th>\n",
       "      <th>Occurrence_Year</th>\n",
       "      <th>Occurrence_Month</th>\n",
       "      <th>Occurrence_DayOfWeek</th>\n",
       "      <th>NeighbourhoodName</th>\n",
       "      <th>Location_Type</th>\n",
       "      <th>Premises_Type</th>\n",
       "      <th>Cost_of_Bike</th>\n",
       "      <th>STOLEN</th>\n",
       "    </tr>\n",
       "  </thead>\n",
       "  <tbody>\n",
       "    <tr>\n",
       "      <th>0</th>\n",
       "      <td>THEFT UNDER</td>\n",
       "      <td>2017</td>\n",
       "      <td>October</td>\n",
       "      <td>Tuesday</td>\n",
       "      <td>Kingsway South (15)</td>\n",
       "      <td>Streets, Roads, Highways (Bicycle Path, Privat...</td>\n",
       "      <td>Outside</td>\n",
       "      <td>700.0</td>\n",
       "      <td>1</td>\n",
       "    </tr>\n",
       "    <tr>\n",
       "      <th>1</th>\n",
       "      <td>THEFT UNDER - BICYCLE</td>\n",
       "      <td>2017</td>\n",
       "      <td>November</td>\n",
       "      <td>Wednesday</td>\n",
       "      <td>Kingsway South (15)</td>\n",
       "      <td>Single Home, House (Attach Garage, Cottage, Mo...</td>\n",
       "      <td>House</td>\n",
       "      <td>1100.0</td>\n",
       "      <td>0</td>\n",
       "    </tr>\n",
       "    <tr>\n",
       "      <th>2</th>\n",
       "      <td>THEFT UNDER - BICYCLE</td>\n",
       "      <td>2018</td>\n",
       "      <td>September</td>\n",
       "      <td>Friday</td>\n",
       "      <td>Kingsway South (15)</td>\n",
       "      <td>Ttc Subway Station</td>\n",
       "      <td>Transit</td>\n",
       "      <td>904.0</td>\n",
       "      <td>1</td>\n",
       "    </tr>\n",
       "    <tr>\n",
       "      <th>3</th>\n",
       "      <td>THEFT UNDER</td>\n",
       "      <td>2015</td>\n",
       "      <td>May</td>\n",
       "      <td>Thursday</td>\n",
       "      <td>Kingsway South (15)</td>\n",
       "      <td>Ttc Subway Station</td>\n",
       "      <td>Transit</td>\n",
       "      <td>400.0</td>\n",
       "      <td>1</td>\n",
       "    </tr>\n",
       "    <tr>\n",
       "      <th>4</th>\n",
       "      <td>THEFT UNDER</td>\n",
       "      <td>2015</td>\n",
       "      <td>May</td>\n",
       "      <td>Saturday</td>\n",
       "      <td>Kingsway South (15)</td>\n",
       "      <td>Ttc Subway Station</td>\n",
       "      <td>Transit</td>\n",
       "      <td>600.0</td>\n",
       "      <td>1</td>\n",
       "    </tr>\n",
       "  </tbody>\n",
       "</table>\n",
       "</div>"
      ],
      "text/plain": [
       "         Primary_Offence  Occurrence_Year Occurrence_Month  \\\n",
       "0            THEFT UNDER             2017          October   \n",
       "1  THEFT UNDER - BICYCLE             2017         November   \n",
       "2  THEFT UNDER - BICYCLE             2018        September   \n",
       "3            THEFT UNDER             2015              May   \n",
       "4            THEFT UNDER             2015              May   \n",
       "\n",
       "  Occurrence_DayOfWeek    NeighbourhoodName  \\\n",
       "0              Tuesday  Kingsway South (15)   \n",
       "1            Wednesday  Kingsway South (15)   \n",
       "2               Friday  Kingsway South (15)   \n",
       "3             Thursday  Kingsway South (15)   \n",
       "4             Saturday  Kingsway South (15)   \n",
       "\n",
       "                                       Location_Type Premises_Type  \\\n",
       "0  Streets, Roads, Highways (Bicycle Path, Privat...       Outside   \n",
       "1  Single Home, House (Attach Garage, Cottage, Mo...         House   \n",
       "2                                 Ttc Subway Station       Transit   \n",
       "3                                 Ttc Subway Station       Transit   \n",
       "4                                 Ttc Subway Station       Transit   \n",
       "\n",
       "   Cost_of_Bike  STOLEN  \n",
       "0         700.0       1  \n",
       "1        1100.0       0  \n",
       "2         904.0       1  \n",
       "3         400.0       1  \n",
       "4         600.0       1  "
      ]
     },
     "execution_count": 52,
     "metadata": {},
     "output_type": "execute_result"
    }
   ],
   "source": [
    "finalData.head()"
   ]
  },
  {
   "cell_type": "code",
   "execution_count": 53,
   "id": "3d3ef1d5",
   "metadata": {},
   "outputs": [
    {
     "data": {
      "text/html": [
       "<div>\n",
       "<style scoped>\n",
       "    .dataframe tbody tr th:only-of-type {\n",
       "        vertical-align: middle;\n",
       "    }\n",
       "\n",
       "    .dataframe tbody tr th {\n",
       "        vertical-align: top;\n",
       "    }\n",
       "\n",
       "    .dataframe thead th {\n",
       "        text-align: right;\n",
       "    }\n",
       "</style>\n",
       "<table border=\"1\" class=\"dataframe\">\n",
       "  <thead>\n",
       "    <tr style=\"text-align: right;\">\n",
       "      <th></th>\n",
       "      <th>Occurrence_Year</th>\n",
       "      <th>Cost_of_Bike</th>\n",
       "      <th>STOLEN</th>\n",
       "    </tr>\n",
       "  </thead>\n",
       "  <tbody>\n",
       "    <tr>\n",
       "      <th>count</th>\n",
       "      <td>25115.000000</td>\n",
       "      <td>23674.000000</td>\n",
       "      <td>25115.000000</td>\n",
       "    </tr>\n",
       "    <tr>\n",
       "      <th>mean</th>\n",
       "      <td>2017.128210</td>\n",
       "      <td>949.694433</td>\n",
       "      <td>0.987736</td>\n",
       "    </tr>\n",
       "    <tr>\n",
       "      <th>std</th>\n",
       "      <td>1.959383</td>\n",
       "      <td>1677.669527</td>\n",
       "      <td>0.110062</td>\n",
       "    </tr>\n",
       "    <tr>\n",
       "      <th>min</th>\n",
       "      <td>2009.000000</td>\n",
       "      <td>0.000000</td>\n",
       "      <td>0.000000</td>\n",
       "    </tr>\n",
       "    <tr>\n",
       "      <th>25%</th>\n",
       "      <td>2016.000000</td>\n",
       "      <td>350.000000</td>\n",
       "      <td>1.000000</td>\n",
       "    </tr>\n",
       "    <tr>\n",
       "      <th>50%</th>\n",
       "      <td>2017.000000</td>\n",
       "      <td>600.000000</td>\n",
       "      <td>1.000000</td>\n",
       "    </tr>\n",
       "    <tr>\n",
       "      <th>75%</th>\n",
       "      <td>2019.000000</td>\n",
       "      <td>1000.000000</td>\n",
       "      <td>1.000000</td>\n",
       "    </tr>\n",
       "    <tr>\n",
       "      <th>max</th>\n",
       "      <td>2020.000000</td>\n",
       "      <td>120000.000000</td>\n",
       "      <td>1.000000</td>\n",
       "    </tr>\n",
       "  </tbody>\n",
       "</table>\n",
       "</div>"
      ],
      "text/plain": [
       "       Occurrence_Year   Cost_of_Bike        STOLEN\n",
       "count     25115.000000   23674.000000  25115.000000\n",
       "mean       2017.128210     949.694433      0.987736\n",
       "std           1.959383    1677.669527      0.110062\n",
       "min        2009.000000       0.000000      0.000000\n",
       "25%        2016.000000     350.000000      1.000000\n",
       "50%        2017.000000     600.000000      1.000000\n",
       "75%        2019.000000    1000.000000      1.000000\n",
       "max        2020.000000  120000.000000      1.000000"
      ]
     },
     "execution_count": 53,
     "metadata": {},
     "output_type": "execute_result"
    }
   ],
   "source": [
    "finalData.describe()"
   ]
  },
  {
   "cell_type": "code",
   "execution_count": 61,
   "id": "eb5851ae",
   "metadata": {},
   "outputs": [
    {
     "data": {
      "text/html": [
       "<div>\n",
       "<style scoped>\n",
       "    .dataframe tbody tr th:only-of-type {\n",
       "        vertical-align: middle;\n",
       "    }\n",
       "\n",
       "    .dataframe tbody tr th {\n",
       "        vertical-align: top;\n",
       "    }\n",
       "\n",
       "    .dataframe thead th {\n",
       "        text-align: right;\n",
       "    }\n",
       "</style>\n",
       "<table border=\"1\" class=\"dataframe\">\n",
       "  <thead>\n",
       "    <tr style=\"text-align: right;\">\n",
       "      <th></th>\n",
       "      <th>Occurrence_Year</th>\n",
       "      <th>Cost_of_Bike</th>\n",
       "      <th>STOLEN</th>\n",
       "    </tr>\n",
       "  </thead>\n",
       "  <tbody>\n",
       "    <tr>\n",
       "      <th>Occurrence_Year</th>\n",
       "      <td>1.000000</td>\n",
       "      <td>0.033064</td>\n",
       "      <td>0.015231</td>\n",
       "    </tr>\n",
       "    <tr>\n",
       "      <th>Cost_of_Bike</th>\n",
       "      <td>0.033064</td>\n",
       "      <td>1.000000</td>\n",
       "      <td>-0.007267</td>\n",
       "    </tr>\n",
       "    <tr>\n",
       "      <th>STOLEN</th>\n",
       "      <td>0.015231</td>\n",
       "      <td>-0.007267</td>\n",
       "      <td>1.000000</td>\n",
       "    </tr>\n",
       "  </tbody>\n",
       "</table>\n",
       "</div>"
      ],
      "text/plain": [
       "                 Occurrence_Year  Cost_of_Bike    STOLEN\n",
       "Occurrence_Year         1.000000      0.033064  0.015231\n",
       "Cost_of_Bike            0.033064      1.000000 -0.007267\n",
       "STOLEN                  0.015231     -0.007267  1.000000"
      ]
     },
     "execution_count": 61,
     "metadata": {},
     "output_type": "execute_result"
    }
   ],
   "source": [
    "finalData.corr()"
   ]
  },
  {
   "cell_type": "code",
   "execution_count": 93,
   "id": "dcd4f565",
   "metadata": {},
   "outputs": [
    {
     "data": {
      "text/plain": [
       "array(['Primary_Offence', 'Occurrence_Year', 'Occurrence_Month',\n",
       "       'Occurrence_DayOfWeek', 'NeighbourhoodName', 'Location_Type',\n",
       "       'Premises_Type', 'Cost_of_Bike', 'STOLEN'], dtype=object)"
      ]
     },
     "execution_count": 93,
     "metadata": {},
     "output_type": "execute_result"
    }
   ],
   "source": [
    "finalData.columns.values"
   ]
  },
  {
   "cell_type": "markdown",
   "id": "876a4879",
   "metadata": {},
   "source": [
    " # Prepare the data for the Model Building"
   ]
  },
  {
   "cell_type": "code",
   "execution_count": 98,
   "id": "92e1ab95",
   "metadata": {},
   "outputs": [
    {
     "data": {
      "text/plain": [
       "list"
      ]
     },
     "execution_count": 98,
     "metadata": {},
     "output_type": "execute_result"
    }
   ],
   "source": [
    "finalData_vars = finalData.columns.values.tolist()\n",
    "Y=['Status']\n",
    "X=[i for i in finalData_vars if i not in Y]\n",
    "type(Y)\n",
    "type(X)"
   ]
  },
  {
   "cell_type": "code",
   "execution_count": 101,
   "id": "f993bf19",
   "metadata": {},
   "outputs": [
    {
     "ename": "KeyError",
     "evalue": "\"None of [Index(['Status'], dtype='object')] are in the [columns]\"",
     "output_type": "error",
     "traceback": [
      "\u001b[1;31m---------------------------------------------------------------------------\u001b[0m",
      "\u001b[1;31mKeyError\u001b[0m                                  Traceback (most recent call last)",
      "\u001b[1;32m~\\AppData\\Local\\Temp/ipykernel_2232/1277465115.py\u001b[0m in \u001b[0;36m<module>\u001b[1;34m\u001b[0m\n\u001b[0;32m      6\u001b[0m \u001b[1;33m\u001b[0m\u001b[0m\n\u001b[0;32m      7\u001b[0m \u001b[0mrfe\u001b[0m \u001b[1;33m=\u001b[0m \u001b[0mRFE\u001b[0m\u001b[1;33m(\u001b[0m\u001b[0mmodel\u001b[0m\u001b[1;33m,\u001b[0m \u001b[1;36m20\u001b[0m\u001b[1;33m)\u001b[0m\u001b[1;33m\u001b[0m\u001b[1;33m\u001b[0m\u001b[0m\n\u001b[1;32m----> 8\u001b[1;33m \u001b[0mrfe\u001b[0m \u001b[1;33m=\u001b[0m \u001b[0mrfe\u001b[0m\u001b[1;33m.\u001b[0m\u001b[0mfit\u001b[0m\u001b[1;33m(\u001b[0m\u001b[0mfinalData\u001b[0m\u001b[1;33m[\u001b[0m\u001b[0mX\u001b[0m\u001b[1;33m]\u001b[0m\u001b[1;33m,\u001b[0m \u001b[0mfinalData\u001b[0m\u001b[1;33m[\u001b[0m\u001b[0mY\u001b[0m\u001b[1;33m]\u001b[0m\u001b[1;33m)\u001b[0m\u001b[1;33m\u001b[0m\u001b[1;33m\u001b[0m\u001b[0m\n\u001b[0m\u001b[0;32m      9\u001b[0m \u001b[0mprint\u001b[0m\u001b[1;33m(\u001b[0m\u001b[0mrfe\u001b[0m\u001b[1;33m.\u001b[0m\u001b[0msupport_\u001b[0m\u001b[1;33m)\u001b[0m\u001b[1;33m\u001b[0m\u001b[1;33m\u001b[0m\u001b[0m\n\u001b[0;32m     10\u001b[0m \u001b[0mprint\u001b[0m\u001b[1;33m(\u001b[0m\u001b[0mrfe\u001b[0m\u001b[1;33m.\u001b[0m\u001b[0mranking_\u001b[0m\u001b[1;33m)\u001b[0m\u001b[1;33m\u001b[0m\u001b[1;33m\u001b[0m\u001b[0m\n",
      "\u001b[1;32mC:\\ProgramData\\Anaconda3\\lib\\site-packages\\pandas\\core\\frame.py\u001b[0m in \u001b[0;36m__getitem__\u001b[1;34m(self, key)\u001b[0m\n\u001b[0;32m   3462\u001b[0m             \u001b[1;32mif\u001b[0m \u001b[0mis_iterator\u001b[0m\u001b[1;33m(\u001b[0m\u001b[0mkey\u001b[0m\u001b[1;33m)\u001b[0m\u001b[1;33m:\u001b[0m\u001b[1;33m\u001b[0m\u001b[1;33m\u001b[0m\u001b[0m\n\u001b[0;32m   3463\u001b[0m                 \u001b[0mkey\u001b[0m \u001b[1;33m=\u001b[0m \u001b[0mlist\u001b[0m\u001b[1;33m(\u001b[0m\u001b[0mkey\u001b[0m\u001b[1;33m)\u001b[0m\u001b[1;33m\u001b[0m\u001b[1;33m\u001b[0m\u001b[0m\n\u001b[1;32m-> 3464\u001b[1;33m             \u001b[0mindexer\u001b[0m \u001b[1;33m=\u001b[0m \u001b[0mself\u001b[0m\u001b[1;33m.\u001b[0m\u001b[0mloc\u001b[0m\u001b[1;33m.\u001b[0m\u001b[0m_get_listlike_indexer\u001b[0m\u001b[1;33m(\u001b[0m\u001b[0mkey\u001b[0m\u001b[1;33m,\u001b[0m \u001b[0maxis\u001b[0m\u001b[1;33m=\u001b[0m\u001b[1;36m1\u001b[0m\u001b[1;33m)\u001b[0m\u001b[1;33m[\u001b[0m\u001b[1;36m1\u001b[0m\u001b[1;33m]\u001b[0m\u001b[1;33m\u001b[0m\u001b[1;33m\u001b[0m\u001b[0m\n\u001b[0m\u001b[0;32m   3465\u001b[0m \u001b[1;33m\u001b[0m\u001b[0m\n\u001b[0;32m   3466\u001b[0m         \u001b[1;31m# take() does not accept boolean indexers\u001b[0m\u001b[1;33m\u001b[0m\u001b[1;33m\u001b[0m\u001b[0m\n",
      "\u001b[1;32mC:\\ProgramData\\Anaconda3\\lib\\site-packages\\pandas\\core\\indexing.py\u001b[0m in \u001b[0;36m_get_listlike_indexer\u001b[1;34m(self, key, axis)\u001b[0m\n\u001b[0;32m   1312\u001b[0m             \u001b[0mkeyarr\u001b[0m\u001b[1;33m,\u001b[0m \u001b[0mindexer\u001b[0m\u001b[1;33m,\u001b[0m \u001b[0mnew_indexer\u001b[0m \u001b[1;33m=\u001b[0m \u001b[0max\u001b[0m\u001b[1;33m.\u001b[0m\u001b[0m_reindex_non_unique\u001b[0m\u001b[1;33m(\u001b[0m\u001b[0mkeyarr\u001b[0m\u001b[1;33m)\u001b[0m\u001b[1;33m\u001b[0m\u001b[1;33m\u001b[0m\u001b[0m\n\u001b[0;32m   1313\u001b[0m \u001b[1;33m\u001b[0m\u001b[0m\n\u001b[1;32m-> 1314\u001b[1;33m         \u001b[0mself\u001b[0m\u001b[1;33m.\u001b[0m\u001b[0m_validate_read_indexer\u001b[0m\u001b[1;33m(\u001b[0m\u001b[0mkeyarr\u001b[0m\u001b[1;33m,\u001b[0m \u001b[0mindexer\u001b[0m\u001b[1;33m,\u001b[0m \u001b[0maxis\u001b[0m\u001b[1;33m)\u001b[0m\u001b[1;33m\u001b[0m\u001b[1;33m\u001b[0m\u001b[0m\n\u001b[0m\u001b[0;32m   1315\u001b[0m \u001b[1;33m\u001b[0m\u001b[0m\n\u001b[0;32m   1316\u001b[0m         if needs_i8_conversion(ax.dtype) or isinstance(\n",
      "\u001b[1;32mC:\\ProgramData\\Anaconda3\\lib\\site-packages\\pandas\\core\\indexing.py\u001b[0m in \u001b[0;36m_validate_read_indexer\u001b[1;34m(self, key, indexer, axis)\u001b[0m\n\u001b[0;32m   1372\u001b[0m                 \u001b[1;32mif\u001b[0m \u001b[0muse_interval_msg\u001b[0m\u001b[1;33m:\u001b[0m\u001b[1;33m\u001b[0m\u001b[1;33m\u001b[0m\u001b[0m\n\u001b[0;32m   1373\u001b[0m                     \u001b[0mkey\u001b[0m \u001b[1;33m=\u001b[0m \u001b[0mlist\u001b[0m\u001b[1;33m(\u001b[0m\u001b[0mkey\u001b[0m\u001b[1;33m)\u001b[0m\u001b[1;33m\u001b[0m\u001b[1;33m\u001b[0m\u001b[0m\n\u001b[1;32m-> 1374\u001b[1;33m                 \u001b[1;32mraise\u001b[0m \u001b[0mKeyError\u001b[0m\u001b[1;33m(\u001b[0m\u001b[1;34mf\"None of [{key}] are in the [{axis_name}]\"\u001b[0m\u001b[1;33m)\u001b[0m\u001b[1;33m\u001b[0m\u001b[1;33m\u001b[0m\u001b[0m\n\u001b[0m\u001b[0;32m   1375\u001b[0m \u001b[1;33m\u001b[0m\u001b[0m\n\u001b[0;32m   1376\u001b[0m             \u001b[0mnot_found\u001b[0m \u001b[1;33m=\u001b[0m \u001b[0mlist\u001b[0m\u001b[1;33m(\u001b[0m\u001b[0mensure_index\u001b[0m\u001b[1;33m(\u001b[0m\u001b[0mkey\u001b[0m\u001b[1;33m)\u001b[0m\u001b[1;33m[\u001b[0m\u001b[0mmissing_mask\u001b[0m\u001b[1;33m.\u001b[0m\u001b[0mnonzero\u001b[0m\u001b[1;33m(\u001b[0m\u001b[1;33m)\u001b[0m\u001b[1;33m[\u001b[0m\u001b[1;36m0\u001b[0m\u001b[1;33m]\u001b[0m\u001b[1;33m]\u001b[0m\u001b[1;33m.\u001b[0m\u001b[0munique\u001b[0m\u001b[1;33m(\u001b[0m\u001b[1;33m)\u001b[0m\u001b[1;33m)\u001b[0m\u001b[1;33m\u001b[0m\u001b[1;33m\u001b[0m\u001b[0m\n",
      "\u001b[1;31mKeyError\u001b[0m: \"None of [Index(['Status'], dtype='object')] are in the [columns]\""
     ]
    }
   ],
   "source": [
    "from sklearn.feature_selection import RFE\n",
    "from sklearn.linear_model import LogisticRegression\n",
    "\n",
    "model = LogisticRegression()\n",
    "\n",
    "rfe = RFE(model, 20)\n",
    "rfe = rfe.fit(finalData[X], finalData[Y])\n",
    "print(rfe.support_)\n",
    "print(rfe.ranking_)\n",
    "cols=['Primary_Offence', 'Occurrence_Year', 'Occurrence_Month',\n",
    "       'Occurrence_DayOfWeek', 'NeighbourhoodName', 'Location_Type',\n",
    "       'Premises_Type', 'Cost_of_Bike']\n",
    "X=finalData[cols]\n",
    "Y=finalData['Status']\n",
    "type(Y)\n",
    "type(X)"
   ]
  },
  {
   "cell_type": "code",
   "execution_count": null,
   "id": "0ca7925e",
   "metadata": {},
   "outputs": [],
   "source": []
  }
 ],
 "metadata": {
  "kernelspec": {
   "display_name": "Python 3",
   "language": "python",
   "name": "python3"
  },
  "language_info": {
   "codemirror_mode": {
    "name": "ipython",
    "version": 3
   },
   "file_extension": ".py",
   "mimetype": "text/x-python",
   "name": "python",
   "nbconvert_exporter": "python",
   "pygments_lexer": "ipython3",
   "version": "3.8.8"
  }
 },
 "nbformat": 4,
 "nbformat_minor": 5
}
